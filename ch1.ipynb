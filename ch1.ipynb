{
 "cells": [
  {
   "cell_type": "markdown",
   "metadata": {},
   "source": [
    "## 第一章 概论\n",
    "\n",
    "### Markdown介绍\n",
    "Markdown是一种可以使用普通文本编辑器编写的标记语言，通过简单的标记语法，它可以使普通文本内容具有一定的格式。它用简洁的语法代替排版，而不像一般我们用的字处理软件 Word 或 Pages 有大量的排版、字体设置。它使我们专心于码字，用「标记」语法，来代替常见的排版格式。例如此文从内容、公式到格式，甚至插图，键盘就可以通通搞定了。\n",
    "\n",
    "### Jupyter Notebook和JupyterLab介绍\n",
    "Jupyter Notebook（此前被称为 IPython notebook）是一个交互式笔记本，支持运行 40 多种编程语言。它的本质是一个 Web 应用程序，便于创建和共享文学化程序文档，支持实时代码，数学方程，可视化和Markdown。 用途包括：数据清理和转换，数值模拟，统计建模，机器学习等等。\n",
    "JupyterLab作为一种基于web的集成开发环境，你可以使用它编写notebook、操作终端、编辑markdown文本、打开交互模式、查看csv文件及图片等功能。\n",
    "\n",
    "\n",
    "### Anaconda介绍\n",
    "Anaconda指的是一个开源的Python发行版本，其包含了Python、conda等180多个科学包及其依赖项。 因为包含了大量的科学包，Anaconda 的下载文件比较大。\n",
    "这么说可能有点抽象，大家可以直接把Anaconda理解为一个python的傻瓜捆绑包。\n",
    "####为什么要安装Anaconda?\n",
    "Anaconda对于python初学者而言及其友好，相比单独安装python主程序，选择Anaconda可以帮助省去很多麻烦，Anaconda里添加了许多常用的功能包，如果单独安装python，这些功能包则需要一条一条自行安装，在Anaconda中则不需要考虑这些，同时Anaconda还附带捆绑了两个非常好用的交互式代码编辑器（Spyder、Jupyter notebook），以及JupyterLab。\n",
    "\n",
    "\n",
    "### 本课程开发环境的安装\n",
    "1、下载Anaconda3安装\n",
    "\n",
    "2、打开Anaconda Prompt命令行工具，运行下列命令安装额外的包\n",
    "```\n",
    "conda install sympy beautifulsoup4 lxml html5lib pytables\n",
    "```\n",
    "3、运行下列命令安装Pint国际标准单位包\n",
    "```\n",
    "conda install -c conda-forge pint\n",
    "```\n",
    "4、运行下列命令安装建模仿真工具包\n",
    "```\n",
    "pip install modsimpy\n",
    "```\n",
    "5、进入https://github.com/DongsuWu/FltSimCourse\n",
    "可以下载本课程上课的例子\n",
    "\n",
    "### 作业的提交\n",
    "上课例子后面有每课的练习，同学们使用Jupyter Notebook完成之后可以将ipynb文件提交到超星课程网站上，也可以在github上自己建一个项目，将网址提交到超星上。ipynb文件的文件名，请写成 \"学号-homework1.ipynb\" 这种形式。 \n",
    "\n",
    "\n"
   ]
  }
 ],
 "metadata": {
  "kernelspec": {
   "display_name": "Python 3",
   "language": "python",
   "name": "python3"
  },
  "language_info": {
   "codemirror_mode": {
    "name": "ipython",
    "version": 3
   },
   "file_extension": ".py",
   "mimetype": "text/x-python",
   "name": "python",
   "nbconvert_exporter": "python",
   "pygments_lexer": "ipython3",
   "version": "3.7.6"
  }
 },
 "nbformat": 4,
 "nbformat_minor": 4
}
